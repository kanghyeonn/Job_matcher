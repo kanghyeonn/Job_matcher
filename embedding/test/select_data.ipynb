{
 "cells": [
  {
   "metadata": {
    "ExecuteTime": {
     "end_time": "2025-07-16T03:17:04.586881Z",
     "start_time": "2025-07-16T03:17:04.583895Z"
    }
   },
   "cell_type": "code",
   "source": [
    "import os\n",
    "\n",
    "mysql_pw = os.environ.get('MYSQL')\n",
    "#print(mysql_pw)"
   ],
   "id": "7b6e00e06f39e29c",
   "outputs": [],
   "execution_count": 1
  },
  {
   "cell_type": "code",
   "id": "initial_id",
   "metadata": {
    "collapsed": true,
    "ExecuteTime": {
     "end_time": "2025-07-16T05:40:51.493010Z",
     "start_time": "2025-07-16T05:40:51.484136Z"
    }
   },
   "source": [
    "import mysql.connector\n",
    "import pandas  as pd\n",
    "\n",
    "conn = mysql.connector.connect(\n",
    "    host=\"localhost\",\n",
    "    user=\"root\",\n",
    "    passwd=mysql_pw,\n",
    "    database=\"job_matcher\",\n",
    ")\n",
    "\n",
    "try:\n",
    "    with conn.cursor() as cursor:\n",
    "        sql = \"\"\"\n",
    "        SELECT j.*\n",
    "        FROM job_postings j\n",
    "        LEFT JOIN embedded_ids e ON j.id = e.job_id\n",
    "        WHERE e.job_id IS NULL\n",
    "        LIMIT 1;\n",
    "        \"\"\"\n",
    "        cursor.execute(sql)\n",
    "        columns = [desc[0] for desc in cursor.description]\n",
    "        while True:\n",
    "            row = cursor.fetchone()\n",
    "            if row is None:\n",
    "                break\n",
    "            row_dict = dict(zip(columns, row))\n",
    "            print(row_dict['content'])\n",
    "\n",
    "finally:\n",
    "    cursor.close()\n",
    "    conn.close()\n"
   ],
   "outputs": [
    {
     "name": "stdout",
     "output_type": "stream",
     "text": [
      "삼성카드고객서비스㈜\n",
      "VVIP 고객 여행상담(심야)\n",
      "삼성카드고객서비스는 카드발급, 대출,\r\n",
      "고객상담서비스 업무 등을 담당하고\r\n",
      "있는 고객관계관리 전문회사 입니다.\r\n",
      "\r\n",
      "오늘날 카드 결제는 민간소비의 50%\r\n",
      "이상을 차지할 정도로 비약적인 발전을\r\n",
      "해왔습니다.\r\n",
      "\r\n",
      "고객 여러 분의 건전하고 합리적인\r\n",
      "소비를 지원하기 위해 노력해 온 카드\r\n",
      "서비스 영역이 있기에 가능한 일이었습니다.\r\n",
      "\r\n",
      "앞으로도 삼성카드고객서비스는\r\n",
      "고객 존중의 마음가짐으로 종합적인\r\n",
      "서비스 제공을 통해 업계의 변화와\r\n",
      "혁신을 선도해 나가겠습니다.\n",
      "포지션 및 자격요건\n",
      "포지션\n",
      "( 1명 )\n",
      "ㅁ 모집직무 : 인바운드 여행상담 심야(ATR)\n",
      "※ 카드상담 일부포함\n",
      "※ 계약직(1년 단위 최대 2년) 후 정규전환 기회 부여\n",
      "ㅁ 근무시간\n",
      "- [평일] 22:00~08:30(9.5h), [휴일] 20:00~08:30(11h)\n",
      "※ 스케쥴 근무로 한달 中 10일 내외 출근(평일, 휴일 포함)\n",
      "ㅁ 근무지역\n",
      "- 서울 구로구 새말로97 (신도림테크노마트)\n",
      "ㅁ 처우수준\n",
      "- 월 296만원 ~ 331만원(월 296만원 + 월 추가 인센티브 0~35만원)\n",
      "※ 총연봉 : 3,552만원 ~ 4,394만원(기본연봉 3,552만원 + 월 인센티브 최대 180만원 + 상/하반기 성과급 최대 662만원)\n",
      "※ 심야근무 시, 심야수당 월 15만원 별도지급\n",
      "ㅁ 복리후생(근속년수 및 연령에 따라 차등지급)\n",
      "- 경조금, 경조화환, 경조휴가 지원\n",
      "(부모/본인 생일 케이크 및 본인생일 복지포인트 지급)\n",
      "- 콘도지원, 캐리비안베이 쿠폰 지원, 결혼도움방(예식장)\n",
      "- 정규직 대상 주택전세 및 주택구입 대출지원\n",
      "- 본인/배우자/자녀 실손보험 가입 및 의료비 지원, 임직원 단체보험 가입\n",
      "- 정규직 복지포인트 년 100만원 지급\n",
      "ㅁ 자격조건\n",
      "- 경력 : 최소 1~3년 이상의 국제선 항공권 및 국내/외 호텔 예약 경력\n",
      "- 활용 프로그램 : 토파스 / 아바쿠스\n",
      "※ vip고객상담, 영어 회화 가능자, 카드사 여행서비스 상담 경력자 우대\n",
      "ㅁ 지원서 접수 및 채용절차\n",
      "- 접수방법 : 이력서 이메일 송부(hyeonjeong74470.lee@samsung.com)\n",
      "- 접수기한 : 상시채용\n",
      "- 전형절차( 서류전형 -> 면접전형 -> 채용검진-> 최종발표)\n",
      "ㅁ 기타\n",
      "- 지원시 응시분야를 이력서에 정확히 기재해주시기 바랍니다.\n",
      "- 지원서에 작성한 지원 내용이 허위임이 밝혀질 경우 채용이 취소됩니다.\n",
      "- 제1항 본문의 입사지원서는 지원자가 작성한\n",
      "「개인정보의 수집·이용동의」에 의거, 동의일로부터 수시선발 등을\n",
      "위한 목적으로 10년간 보관·이용하나, 지원자의 삭제요청이 있는\n",
      "경우에는 지체없이 파기합니다.\n",
      "- 제1항 단서에 의한 채용서류 반환청구를 하려는 지원자는 반환청구서를\n",
      "팩스(02-2000-8729)로 제출하면, 제출일로부터 14일 내에 지정주소로\n",
      "등기우편을 통하여 발송해 드립니다.\n",
      "단, 지원자가 반환청구기간 종료시까지 반환청구를 하지 아니할\n",
      "경우에는 지체없이 채용서류 일체를 파기할 예정입니다\n",
      "※ 기타 채용문의는 채용담당자(02-2000-8301)에게 문의 바랍니다.\n",
      "전형절차\n",
      "ㆍ서류전형 > 면접 >  채용검진 > 최종합격\n",
      "ㆍ면접일정은 추후 통보됩니다.\n",
      "유의사항\n",
      "ㆍ허위사실이 발견될 경우 채용이 취소될 수 있습니다.\n"
     ]
    }
   ],
   "execution_count": 18
  },
  {
   "metadata": {
    "ExecuteTime": {
     "end_time": "2025-07-16T06:01:04.987336Z",
     "start_time": "2025-07-16T06:01:04.985256Z"
    }
   },
   "cell_type": "code",
   "source": "",
   "id": "e8655852e988167e",
   "outputs": [],
   "execution_count": null
  },
  {
   "metadata": {},
   "cell_type": "code",
   "outputs": [],
   "execution_count": null,
   "source": "",
   "id": "a8931e2579822a7f"
  }
 ],
 "metadata": {
  "kernelspec": {
   "display_name": "Python 3",
   "language": "python",
   "name": "python3"
  },
  "language_info": {
   "codemirror_mode": {
    "name": "ipython",
    "version": 2
   },
   "file_extension": ".py",
   "mimetype": "text/x-python",
   "name": "python",
   "nbconvert_exporter": "python",
   "pygments_lexer": "ipython2",
   "version": "2.7.6"
  }
 },
 "nbformat": 4,
 "nbformat_minor": 5
}
