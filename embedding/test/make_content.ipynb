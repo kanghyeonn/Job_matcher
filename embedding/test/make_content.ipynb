{
 "cells": [
  {
   "cell_type": "code",
   "id": "initial_id",
   "metadata": {
    "collapsed": true,
    "ExecuteTime": {
     "end_time": "2025-07-16T08:40:47.783148Z",
     "start_time": "2025-07-16T08:40:47.777638Z"
    }
   },
   "source": [
    "def generate_job_description(data):\n",
    "    lines = []\n",
    "    lines.append(f\"{data['company_name']}에서 {data['position_role']} 포지션을 모집합니다.\")\n",
    "\n",
    "    if data.get('contract_type') and data.get('location'):\n",
    "        lines.append(f\"본 포지션은 {data['contract_type']}으로, {data['location']}에서 근무하게 됩니다.\")\n",
    "    elif data.get('contract_type'):\n",
    "        lines.append(f\"본 포지션은 {data['contract_type']}입니다.\")\n",
    "    elif data.get('location'):\n",
    "        lines.append(f\"근무지는 {data['location']}입니다.\")\n",
    "\n",
    "    if data.get('career'):\n",
    "        lines.append(f\"경력 조건은 {data['career']}입니다.\")\n",
    "    if data.get('education'):\n",
    "        lines.append(f\"학력 조건은 {data['education']}입니다.\")\n",
    "    if data.get('working_time'):\n",
    "        lines.append(f\"근무 시간은 {data['working_time']}입니다.\")\n",
    "    if data.get('skill'):\n",
    "        lines.append(f\"요구되는 기술은 {data['skill']}입니다.\")\n",
    "    if data.get('preferred'):\n",
    "        lines.append(f\"우대사항으로는 {data['preferred']}이 있습니다.\")\n",
    "    if data.get('salary'):\n",
    "        lines.append(f\"급여는 {data['salary']}입니다.\")\n",
    "    if data.get('due_date'):\n",
    "        lines.append(f\"접수 마감일은 {data['due_date']}입니다.\")\n",
    "\n",
    "    # 회사 소개\n",
    "    company_info = []\n",
    "    if data.get('founded'):\n",
    "        company_info.append(f\"{data['founded']}년에 설립\")\n",
    "    if data.get('employees'):\n",
    "        company_info.append(f\"현재 {data['employees']}의 직원\")\n",
    "    if data.get('company_type'):\n",
    "        company_info.append(f\"{data['company_type']}으로 분류\")\n",
    "    if data.get('industry'):\n",
    "        company_info.append(f\"산업 분야는 {data['industry']}\")\n",
    "    if company_info:\n",
    "        lines.append(\", \".join(company_info) + \"입니다.\")\n",
    "\n",
    "    if data.get('homepage'):\n",
    "        lines.append(f\"자세한 정보는 회사 홈페이지({data['homepage']})에서 확인하실 수 있습니다.\")\n",
    "\n",
    "    return \"\\n\".join(lines)\n"
   ],
   "outputs": [],
   "execution_count": 24
  },
  {
   "metadata": {
    "ExecuteTime": {
     "end_time": "2025-07-16T08:40:47.806034Z",
     "start_time": "2025-07-16T08:40:47.795147Z"
    }
   },
   "cell_type": "code",
   "source": [
    "import os\n",
    "import mysql.connector\n",
    "\n",
    "rows = []\n",
    "\n",
    "mysql_pw = os.environ.get('MYSQL')\n",
    "conn = mysql.connector.connect(\n",
    "    host=\"localhost\",\n",
    "    user=\"root\",\n",
    "    passwd=mysql_pw,\n",
    "    database=\"job_matcher\"\n",
    ")\n",
    "\n",
    "try:\n",
    "    with conn.cursor(dictionary=True) as cursor:\n",
    "        sql = \"\"\"\n",
    "        SELECT *\n",
    "        FROM job_postings\n",
    "        WHERE content = \"\"\n",
    "        LIMIT 5;\n",
    "        \"\"\"\n",
    "        cursor.execute(sql)\n",
    "        while True:\n",
    "            row = cursor.fetchone()\n",
    "            if row is None:\n",
    "                break\n",
    "            rows.append(row)\n",
    "finally:\n",
    "    cursor.close()\n",
    "    conn.close()\n"
   ],
   "id": "893a0c19933213f3",
   "outputs": [],
   "execution_count": 25
  },
  {
   "metadata": {
    "ExecuteTime": {
     "end_time": "2025-07-16T08:40:47.825133Z",
     "start_time": "2025-07-16T08:40:47.821872Z"
    }
   },
   "cell_type": "code",
   "source": [
    "contents = []\n",
    "\n",
    "for row in rows:\n",
    "    contents.append(generate_job_description(row))\n",
    "\n",
    "len(contents)"
   ],
   "id": "d1a515c201db92d7",
   "outputs": [
    {
     "data": {
      "text/plain": [
       "5"
      ]
     },
     "execution_count": 26,
     "metadata": {},
     "output_type": "execute_result"
    }
   ],
   "execution_count": 26
  },
  {
   "metadata": {
    "ExecuteTime": {
     "end_time": "2025-07-16T08:41:04.149404Z",
     "start_time": "2025-07-16T08:40:47.847055Z"
    }
   },
   "cell_type": "code",
   "source": [
    "import os\n",
    "from langchain_openai import ChatOpenAI\n",
    "from langchain.prompts import ChatPromptTemplate\n",
    "from langchain.output_parsers import StructuredOutputParser, ResponseSchema\n",
    "from langchain.schema.runnable import RunnableLambda, RunnableSequence, RunnablePassthrough\n",
    "api_key = os.environ.get(\"OPENAI_API_KEY\")\n",
    "\n",
    "model = ChatOpenAI(\n",
    "    model = 'gpt-4.1',\n",
    "    temperature = 0.1\n",
    ")\n",
    "\n",
    "response_schemas = [\n",
    "    ResponseSchema(name=\"근무조건\", description=\"간결한 근무조건 요약\"),\n",
    "    ResponseSchema(name=\"복리후생\", description=\"간결한 복리후생 요약\"),\n",
    "    ResponseSchema(name=\"자격\", description=\"간결한 자격요건 요약\"),\n",
    "    ResponseSchema(name=\"전형\", description=\"간결한 전형절차 요약\"),\n",
    "    ResponseSchema(name=\"기타\", description=\"기타 지원방법과 문의처 요약\")\n",
    "]\n",
    "\n",
    "output_parser = StructuredOutputParser.from_response_schemas(response_schemas)\n",
    "format_instructions = output_parser.get_format_instructions()\n",
    "\n",
    "results = []\n",
    "for job_content in contents:\n",
    "    prompt = ChatPromptTemplate.from_template(\n",
    "        \"\"\"\n",
    "        너는 채용공고 요약 전문가야.\n",
    "        다음 채용공고 본문을 읽고, 주어진 형식에 따라 JSON으로 간결하게 요약해줘.\n",
    "        {format_instructions}\n",
    "\n",
    "        채용공고 본문:\n",
    "        \\\"\\\"\\\"\n",
    "        {job_content}\n",
    "        \\\"\\\"\\\"\n",
    "        \"\"\"\n",
    "    )\n",
    "\n",
    "    chain = (\n",
    "        prompt\n",
    "        | model\n",
    "        | RunnableLambda(lambda x: output_parser.parse(x.content))\n",
    "    )\n",
    "\n",
    "    result = chain.invoke({\n",
    "        \"format_instructions\" : format_instructions,\n",
    "        \"job_content\" : job_content\n",
    "    })\n",
    "    results.append(result)\n",
    "    print(result)\n",
    "    print('*' * 20)"
   ],
   "id": "480679489c1ec03",
   "outputs": [
    {
     "name": "stdout",
     "output_type": "stream",
     "text": [
      "{'근무조건': '정규직(수습 3개월), 주5일(월~금) 08:00~17:00, 광주 광산구 근무, 급여는 회사 내규(면접 후 결정)', '복리후생': '내규에 따름(별도 언급 없음)', '자격': '신입·경력, 학력무관, Excel 활용 가능자, 유관업무 경험자 및 회계학과 우대', '전형': '서류전형 후 면접', '기타': '접수 마감 2025-09-14, 자세한 내용은 http://www.sjroad.kr 참고'}\n",
      "********************\n",
      "{'근무조건': '정규직, 경기도 부천시 근무, 주5일(월~금) 09:00~18:00, 월급 400만원, 경력·학력 무관', '복리후생': '중소기업 기준 복리후생 제공(상세 미기재)', '자격': '경력 및 학력 무관, 특별한 자격요건 없음', '전형': '서류 접수 후 개별 안내(전형 절차 미기재)', '기타': '접수 마감일 2025-08-15, 문의처 및 지원방법 미기재'}\n",
      "********************\n",
      "{'근무조건': '정규직(수습 3개월), 서울 강남구 근무, 주 5일 근무, 월 8회 휴무, 월급 236만원 이상', '복리후생': '대기업 수준 복리후생 제공(상세 내용 미기재)', '자격': '신입 및 경력, 고졸 이상, 인근 거주자 우대', '전형': '지원서 접수 후 전형(상세 절차 미기재), 접수 마감 2025-07-30', '기타': '회사 홈페이지(http://www.coffeebeankorea.com) 참고'}\n",
      "********************\n",
      "{'근무조건': '정규직, 계약직(정규직 전환 가능), 프리랜서(정규직 전환 가능) 중 선택, 경기도 고양시 일산동구 근무, 주 5일(월~금) 09:00~18:00 탄력근무제, 월급 500~850만원, 경력·학력 무관', '복리후생': '중소기업(비상장), 55명 규모, 12년차 기업', '자격': '경력·학력 무관, 운전 가능자 우대', '전형': '별도 전형절차 미기재', '기타': '지원방법 및 문의처 미기재'}\n",
      "********************\n",
      "{'근무조건': '계약직, 서울 구로구 근무, 주5일(월~금) 09:00~18:00, 급여 회사내규에 따름, 경력·학력 무관', '복리후생': '중소기업 복지 제공(상세 미기재)', '자격': '경력·학력 무관, 군전역간부(장교·부사관) 우대', '전형': '전형절차 미기재', '기타': '지원방법 및 문의처 미기재'}\n",
      "********************\n"
     ]
    }
   ],
   "execution_count": 27
  },
  {
   "metadata": {
    "ExecuteTime": {
     "end_time": "2025-07-16T08:41:04.168518Z",
     "start_time": "2025-07-16T08:41:04.165342Z"
    }
   },
   "cell_type": "code",
   "source": "results[0]['근무조건']",
   "id": "7f86b902bd1d714b",
   "outputs": [
    {
     "data": {
      "text/plain": [
       "'정규직(수습 3개월), 주5일(월~금) 08:00~17:00, 광주 광산구 근무, 급여는 회사 내규(면접 후 결정)'"
      ]
     },
     "execution_count": 28,
     "metadata": {},
     "output_type": "execute_result"
    }
   ],
   "execution_count": 28
  }
 ],
 "metadata": {
  "kernelspec": {
   "display_name": "Python 3",
   "language": "python",
   "name": "python3"
  },
  "language_info": {
   "codemirror_mode": {
    "name": "ipython",
    "version": 2
   },
   "file_extension": ".py",
   "mimetype": "text/x-python",
   "name": "python",
   "nbconvert_exporter": "python",
   "pygments_lexer": "ipython2",
   "version": "2.7.6"
  }
 },
 "nbformat": 4,
 "nbformat_minor": 5
}
