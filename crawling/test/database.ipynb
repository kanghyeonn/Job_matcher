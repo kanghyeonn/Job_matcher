{
 "cells": [
  {
   "cell_type": "code",
   "id": "initial_id",
   "metadata": {
    "collapsed": true,
    "ExecuteTime": {
     "end_time": "2025-07-16T00:17:34.296463Z",
     "start_time": "2025-07-16T00:17:34.250128Z"
    }
   },
   "source": [
    "import mysql.connector\n",
    "\n",
    "def insert_job_posting(data):\n",
    "    conn = mysql.connector.connect(\n",
    "        host='localhost',\n",
    "        user='root',\n",
    "        password='my password',\n",
    "        database='job_matcher'\n",
    "    )\n",
    "    cursor = conn.cursor()\n",
    "\n",
    "    sql = \"\"\"\n",
    "    INSERT INTO job_postings (\n",
    "        title, company_name, career, education, skill, preferred, contract_type,\n",
    "        salary, location, working_time, position_level, position_role, content,\n",
    "        url, due_date, industry, employees, founded, company_type, homepage\n",
    "    ) VALUES (\n",
    "        %s, %s, %s, %s, %s, %s, %s, %s, %s, %s, %s, %s, %s, %s, %s, %s, %s, %s, %s, %s\n",
    "    )\n",
    "    \"\"\"\n",
    "\n",
    "    params = (\n",
    "        data.get('title'),\n",
    "        data.get('company_name'),\n",
    "        data.get('career'),\n",
    "        data.get('education'),\n",
    "        data.get('skill'),\n",
    "        data.get('preferred'),\n",
    "        ', '.join(data.get('contract_type', [])) if isinstance(data.get('contract_type'), list) else data.get('contract_type'),\n",
    "        data.get('salary'),\n",
    "        data.get('location'),\n",
    "        data.get('working_time'),\n",
    "        data.get('position_level'),\n",
    "        data.get('position_role'),\n",
    "        data.get('content'),\n",
    "        data.get('url'),\n",
    "        data.get('due_date'),  # 날짜 파싱 필요시 datetime.strptime() 사용\n",
    "        data.get('industry'),\n",
    "        data.get('employees'),\n",
    "        data.get('founded'),\n",
    "        data.get('company_type'),\n",
    "        data.get('homepage')\n",
    "    )\n",
    "\n",
    "    cursor.execute(sql, params)\n",
    "    conn.commit()\n",
    "    print(f\"Inserted ID: {cursor.lastrowid}\")\n",
    "\n",
    "    cursor.close()\n",
    "    conn.close()"
   ],
   "outputs": [],
   "execution_count": 2
  },
  {
   "metadata": {
    "ExecuteTime": {
     "end_time": "2025-07-15T06:43:41.368076Z",
     "start_time": "2025-07-15T06:43:41.365049Z"
    }
   },
   "cell_type": "code",
   "outputs": [],
   "execution_count": 24,
   "source": [
    "posted = {'title': '코웨이㈜기업인증 완료관심기업관심기업 추가하고채용소식 받기닫기[코웨이]7월 계약직 채용(수출입/연구/데이터/생산/실험 업무 지원)',\n",
    "     'career': '경력',\n",
    "     'education': '학력무관',\n",
    "     'skill': None,\n",
    "     'preferred': None,\n",
    "     'contract_type': '[\"계약직근무기간 12개월\"]',\n",
    "     'salary': '회사내규에 따름 \\r\\n - 면접 후 결정',\n",
    "     'location': '서울시 구로구',\n",
    "     'working_time': '주5일\\r\\n                                    (월~금)09:00~18:00',\n",
    "     'position_level': None,\n",
    "     'position_role': None,\n",
    "     'content': '',\n",
    "     'url': 'https://www.jobkorea.co.kr/Recruit/GI_Read/47325430?rPageCode=SL&logpath=21&sn=6&sc=612',\n",
    "     'due_date': None\n",
    "}\n",
    "company_data = {'company_name': '㈜이안아이티컨설팅',\n",
    "      'industry': '컴퓨터 프로그래밍 서비스업',\n",
    "      'company_type': '중소기업',\n",
    "      'capital': '1,000만원(2017.12.31)',\n",
    "      'ceo': '안흥섭',\n",
    "      'insurance': '국민연금, 건강보험, 고용보험, 산재보험',\n",
    "      'address': '서울 강서구 화곡로 429 (가양동, 토피아빌딩) 402-11',\n",
    "      'employees': '2명(2017.12.31)',\n",
    "      'founded_date': '2014.07.01(12년차)',\n",
    "      'sales': '1억 8,899만원(2017.12.31)',\n",
    "      'business_desc': '컴퓨터프로그래밍,컴퓨터시스템 통합자문,구축,정보기술,컴퓨터운영관련서비스/컴퓨터,주변장치,소프트웨어 소매',\n",
    "      'homepage': 'http://cafe.naver.com/ianit'\n",
    "}"
   ],
   "id": "8f62b595c7786bdc"
  },
  {
   "metadata": {
    "ExecuteTime": {
     "end_time": "2025-07-16T00:17:15.079203Z",
     "start_time": "2025-07-16T00:17:15.075379Z"
    }
   },
   "cell_type": "code",
   "outputs": [],
   "execution_count": 1,
   "source": [
    "post = {'title': '코웨이㈜기업인증 완료관심기업관심기업 추가하고채용소식 받기닫기[코웨이]7월 계약직 채용(수출입/연구/데이터/생산/실험 업무 지원)',\n",
    "     'company_name': '코웨이㈜',\n",
    "     'career': '경력',\n",
    "     'education': '학력무관',\n",
    "     'skill': None,\n",
    "     'preferred': None,\n",
    "     'contract_type': '[\"계약직근무기간 12개월\"]',\n",
    "     'salary': '회사내규에 따름 \\r\\n - 면접 후 결정',\n",
    "     'location': '서울시 구로구',\n",
    "     'working_time': '주5일\\r\\n                                    (월~금)09:00~18:00',\n",
    "     'position_level': None,\n",
    "     'position_role': None,\n",
    "     'content': '',\n",
    "     'url': 'https://www.jobkorea.co.kr/Recruit/GI_Read/47325430?rPageCode=SL&logpath=21&sn=6&sc=612',\n",
    "     'due_date': None,\n",
    "     'industry': '그 외 기타 달리 분류되지 않은 개인 서비스업',\n",
    "     'employees': '6,233명',\n",
    "     'founded': '1989년 (37년차)',\n",
    "     'company_type': '대기업\\r\\n                                    (코스피)',\n",
    "     'homepage': 'https://company.coway.com'\n",
    "}"
   ],
   "id": "1760a37f3bf40ab5"
  },
  {
   "metadata": {
    "ExecuteTime": {
     "end_time": "2025-07-16T00:18:58.254308Z",
     "start_time": "2025-07-16T00:18:58.243684Z"
    }
   },
   "cell_type": "code",
   "source": "insert_job_posting(post)",
   "id": "420c63bbbfcdbaa2",
   "outputs": [
    {
     "name": "stdout",
     "output_type": "stream",
     "text": [
      "Inserted ID: 1\n"
     ]
    }
   ],
   "execution_count": 4
  }
 ],
 "metadata": {
  "kernelspec": {
   "display_name": "Python 3",
   "language": "python",
   "name": "python3"
  },
  "language_info": {
   "codemirror_mode": {
    "name": "ipython",
    "version": 2
   },
   "file_extension": ".py",
   "mimetype": "text/x-python",
   "name": "python",
   "nbconvert_exporter": "python",
   "pygments_lexer": "ipython2",
   "version": "2.7.6"
  }
 },
 "nbformat": 4,
 "nbformat_minor": 5
}
